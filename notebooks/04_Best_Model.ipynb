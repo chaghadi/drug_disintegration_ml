{
 "cells": [
  {
   "cell_type": "code",
   "execution_count": 1,
   "id": "ae8a039f-144d-42a9-9367-1cbbcb0ce157",
   "metadata": {},
   "outputs": [
    {
     "name": "stderr",
     "output_type": "stream",
     "text": [
      "2025-06-28 21:06:10.174944: I tensorflow/core/platform/cpu_feature_guard.cc:193] This TensorFlow binary is optimized with oneAPI Deep Neural Network Library (oneDNN) to use the following CPU instructions in performance-critical operations:  AVX2 AVX512F AVX512_VNNI FMA\n",
      "To enable them in other operations, rebuild TensorFlow with the appropriate compiler flags.\n",
      "2025-06-28 21:06:17.598778: I tensorflow/core/platform/cpu_feature_guard.cc:193] This TensorFlow binary is optimized with oneAPI Deep Neural Network Library (oneDNN) to use the following CPU instructions in performance-critical operations:  AVX2 AVX512F AVX512_VNNI FMA\n",
      "To enable them in other operations, rebuild TensorFlow with the appropriate compiler flags.\n"
     ]
    },
    {
     "name": "stdout",
     "output_type": "stream",
     "text": [
      "🧪 Training RF...\n",
      "✅ RF: RMSE=24.64, R²=0.666\n",
      "🧪 Training LGBM...\n",
      "[LightGBM] [Info] Auto-choosing col-wise multi-threading, the overhead of testing was 0.001236 seconds.\n",
      "You can set `force_col_wise=true` to remove the overhead.\n",
      "[LightGBM] [Info] Total Bins 4106\n",
      "[LightGBM] [Info] Number of data points in the train set: 1585, number of used features: 51\n",
      "[LightGBM] [Info] Start training from score 48.648380\n",
      "✅ LGBM: RMSE=23.53, R²=0.696\n",
      "🧪 Training SVR...\n",
      "✅ SVR: RMSE=35.92, R²=0.291\n",
      "🧪 Training KNN...\n",
      "✅ KNN: RMSE=31.38, R²=0.459\n",
      "🧪 Training ANN...\n",
      "13/13 [==============================] - 0s 1ms/step\n",
      "✅ ANN: RMSE=29.79, R²=0.512\n",
      "\n",
      "🏆 Best model: LGBM {'RMSE': 23.52583215871914, 'R2': 0.6959543003126802}\n",
      "📦 Saved best model to models/best_model_LGBM.joblib\n"
     ]
    }
   ],
   "source": [
    "# 0. Imports\n",
    "import os\n",
    "import pandas as pd\n",
    "import numpy as np\n",
    "from sklearn.model_selection import train_test_split, GridSearchCV\n",
    "from sklearn.preprocessing import StandardScaler\n",
    "from sklearn.metrics import mean_squared_error, r2_score\n",
    "from sklearn.ensemble import RandomForestRegressor\n",
    "from sklearn.svm import SVR\n",
    "from sklearn.neighbors import KNeighborsRegressor\n",
    "import lightgbm as lgb\n",
    "import tensorflow as tf\n",
    "import joblib\n",
    "\n",
    "# 1. Load Data\n",
    "file_path = \"/Users/jinsyl/ML Class/drug_disintegration_ml/data/raw/final_data_all_excipients.csv\"\n",
    "df = pd.read_csv(file_path)\n",
    "X = df.drop(columns=['DISINTEGRATION_TIME'])\n",
    "y = df['DISINTEGRATION_TIME']\n",
    "X_train, X_test, y_train, y_test = train_test_split(X, y, test_size=0.2, random_state=42)\n",
    "\n",
    "# 2. Preprocessing: Scale features\n",
    "scaler = StandardScaler().fit(X_train)\n",
    "Xtr_s = scaler.transform(X_train)\n",
    "Xte_s = scaler.transform(X_test)\n",
    "\n",
    "# 3. Define Neural Network builder\n",
    "def make_nn(input_dim):\n",
    "    model = tf.keras.Sequential([\n",
    "        tf.keras.layers.Dense(128, activation='relu', input_shape=(input_dim,)),\n",
    "        tf.keras.layers.Dense(64, activation='relu'),\n",
    "        tf.keras.layers.Dense(1)\n",
    "    ])\n",
    "    model.compile(optimizer='adam', loss='mse')\n",
    "    return model\n",
    "\n",
    "# 4. Define Models\n",
    "models = {\n",
    "    'RF': RandomForestRegressor(n_estimators=200, random_state=42),\n",
    "    'LGBM': lgb.LGBMRegressor(n_estimators=200, learning_rate=0.05, random_state=42),\n",
    "    'SVR': GridSearchCV(SVR(), {'C': [1, 10], 'gamma': ['scale', 'auto']}, cv=3),\n",
    "    'KNN': GridSearchCV(KNeighborsRegressor(), {'n_neighbors': [5, 10]}, cv=3),\n",
    "    'ANN': make_nn(Xtr_s.shape[1])\n",
    "}\n",
    "\n",
    "# 5. Train & Evaluate\n",
    "results = {}\n",
    "for name, model in models.items():\n",
    "    print(f\"🧪 Training {name}...\")\n",
    "    if name == 'ANN':\n",
    "        model.fit(Xtr_s, y_train, epochs=50, batch_size=32, verbose=0)\n",
    "        preds = model.predict(Xte_s).flatten()\n",
    "    else:\n",
    "        model.fit(Xtr_s, y_train)\n",
    "        preds = model.predict(Xte_s)\n",
    "\n",
    "    rmse = np.sqrt(mean_squared_error(y_test, preds))\n",
    "    r2 = r2_score(y_test, preds)\n",
    "    results[name] = {'RMSE': rmse, 'R2': r2}\n",
    "    print(f\"✅ {name}: RMSE={rmse:.2f}, R²={r2:.3f}\")\n",
    "\n",
    "# 6. Save Best Model\n",
    "best_name = max(results, key=lambda k: results[k]['R2'])\n",
    "print(\"\\n🏆 Best model:\", best_name, results[best_name])\n",
    "\n",
    "# Save model (except ANN which is Keras and requires special saving)\n",
    "os.makedirs(\"models\", exist_ok=True)\n",
    "if best_name != 'ANN':\n",
    "    joblib.dump(models[best_name], f\"models/best_model_{best_name}.joblib\")\n",
    "    print(f\"📦 Saved best model to models/best_model_{best_name}.joblib\")\n",
    "else:\n",
    "    models['ANN'].save(\"models/best_model_ANN.h5\")\n",
    "    print(\"📦 Saved best ANN model to models/best_model_ANN.h5\")\n"
   ]
  },
  {
   "cell_type": "code",
   "execution_count": 3,
   "id": "3312df0a-1c27-4edd-b5c6-4fcbc5527a77",
   "metadata": {},
   "outputs": [
    {
     "name": "stdout",
     "output_type": "stream",
     "text": [
      "🔍 Best Parameters from Grid Search:\n",
      "{'colsample_bytree': 0.7, 'learning_rate': 0.1, 'max_depth': 5, 'min_child_samples': 10, 'num_leaves': 31, 'subsample': 0.7}\n",
      "\n",
      "🏆 Tuned LGBM (GridSearch) – RMSE: 22.82, R²: 0.714\n"
     ]
    },
    {
     "data": {
      "text/plain": [
       "['models/best_model_LGBM_GridSearch.joblib']"
      ]
     },
     "execution_count": 3,
     "metadata": {},
     "output_type": "execute_result"
    }
   ],
   "source": [
    "import warnings\n",
    "from sklearn.model_selection import GridSearchCV\n",
    "from lightgbm import LGBMRegressor\n",
    "\n",
    "# 📵 Suppress LightGBM warning output\n",
    "warnings.filterwarnings(\"ignore\", category=UserWarning)\n",
    "\n",
    "# 🧪 Define parameter grid\n",
    "param_grid = {\n",
    "    'learning_rate': [0.01, 0.05, 0.1],\n",
    "    'max_depth': [5, 10, 15],\n",
    "    'num_leaves': [31, 60, 90],\n",
    "    'min_child_samples': [10, 20],\n",
    "    'subsample': [0.7, 1.0],\n",
    "    'colsample_bytree': [0.7, 1.0],\n",
    "}\n",
    "\n",
    "# 🏗️ Set up grid search\n",
    "lgbm_base = LGBMRegressor(n_estimators=300, random_state=42, verbosity=-1)\n",
    "grid = GridSearchCV(\n",
    "    estimator=lgbm_base,\n",
    "    param_grid=param_grid,\n",
    "    cv=3,\n",
    "    scoring='r2',\n",
    "    n_jobs=-1,\n",
    "    verbose=0\n",
    ")\n",
    "\n",
    "# 🚀 Fit search\n",
    "grid.fit(Xtr_s, y_train)\n",
    "\n",
    "# 📈 Evaluate on test set\n",
    "best_lgbm = grid.best_estimator_\n",
    "preds = best_lgbm.predict(Xte_s)\n",
    "rmse = np.sqrt(mean_squared_error(y_test, preds))\n",
    "r2 = r2_score(y_test, preds)\n",
    "\n",
    "print(\"🔍 Best Parameters from Grid Search:\")\n",
    "print(grid.best_params_)\n",
    "print(f\"\\n🏆 Tuned LGBM (GridSearch) – RMSE: {rmse:.2f}, R²: {r2:.3f}\")\n",
    "\n",
    "# 💾 Save the improved model\n",
    "joblib.dump(best_lgbm, \"models/best_model_LGBM_GridSearch.joblib\")\n"
   ]
  },
  {
   "cell_type": "code",
   "execution_count": 3,
   "id": "9c46a600-320d-4d37-a176-5c4cdcadbc15",
   "metadata": {},
   "outputs": [
    {
     "name": "stdout",
     "output_type": "stream",
     "text": [
      "🚦 Starting quick GridSearch test...\n",
      "Fitting 3 folds for each of 4 candidates, totalling 12 fits\n",
      "\n",
      "🎯 Best Parameters (Quick GridSearch):\n",
      "{'learning_rate': 0.05, 'max_depth': 8, 'n_estimators': 300}\n",
      "\n",
      "🚀 Result – RMSE: 23.18, R²: 0.705\n"
     ]
    },
    {
     "data": {
      "text/plain": [
       "['models/best_model_LGBM_QuickTest.joblib']"
      ]
     },
     "execution_count": 3,
     "metadata": {},
     "output_type": "execute_result"
    }
   ],
   "source": [
    "from sklearn.model_selection import GridSearchCV\n",
    "from lightgbm import LGBMRegressor\n",
    "import warnings\n",
    "import joblib\n",
    "\n",
    "# Suppress LightGBM warnings\n",
    "warnings.filterwarnings(\"ignore\", category=UserWarning)\n",
    "\n",
    "# 🧪 Mini test grid (only 4 combinations)\n",
    "test_grid = {\n",
    "    'learning_rate': [0.03, 0.05],\n",
    "    'max_depth': [8, 10],\n",
    "    'n_estimators': [300]\n",
    "}\n",
    "\n",
    "lgbm_quick = LGBMRegressor(random_state=42, verbosity=-1)\n",
    "\n",
    "print(\"🚦 Starting quick GridSearch test...\")\n",
    "quick_search = GridSearchCV(\n",
    "    estimator=lgbm_quick,\n",
    "    param_grid=test_grid,\n",
    "    cv=3,\n",
    "    scoring='r2',\n",
    "    n_jobs=2,     # use fewer cores for stability\n",
    "    verbose=1     # shows progress\n",
    ")\n",
    "\n",
    "quick_search.fit(Xtr_s, y_train)\n",
    "\n",
    "# ✅ Evaluate\n",
    "best_lgbm_quick = quick_search.best_estimator_\n",
    "y_pred_quick = best_lgbm_quick.predict(Xte_s)\n",
    "rmse_quick = np.sqrt(mean_squared_error(y_test, y_pred_quick))\n",
    "r2_quick = r2_score(y_test, y_pred_quick)\n",
    "\n",
    "print(\"\\n🎯 Best Parameters (Quick GridSearch):\")\n",
    "print(quick_search.best_params_)\n",
    "print(f\"\\n🚀 Result – RMSE: {rmse_quick:.2f}, R²: {r2_quick:.3f}\")\n",
    "\n",
    "# 💾 Save model\n",
    "joblib.dump(best_lgbm_quick, \"models/best_model_LGBM_QuickTest.joblib\")\n"
   ]
  },
  {
   "cell_type": "code",
   "execution_count": 4,
   "id": "eaf6e4f0-aa60-4112-b744-8408591f7423",
   "metadata": {},
   "outputs": [
    {
     "name": "stdout",
     "output_type": "stream",
     "text": [
      "🚀 Running optimized GridSearch on M1...\n",
      "Fitting 2 folds for each of 256 candidates, totalling 512 fits\n",
      "\n",
      "🎯 Best Parameters:\n",
      "{'colsample_bytree': 0.8, 'learning_rate': 0.05, 'max_depth': 8, 'min_child_samples': 10, 'n_estimators': 300, 'num_leaves': 50, 'reg_alpha': 0.1, 'reg_lambda': 0.1, 'subsample': 0.8}\n",
      "\n",
      "🏅 Tuned LGBM (Optimized) – RMSE: 21.48, R²: 0.747\n"
     ]
    },
    {
     "data": {
      "text/plain": [
       "['models/best_model_LGBM_OptimizedM1.joblib']"
      ]
     },
     "execution_count": 4,
     "metadata": {},
     "output_type": "execute_result"
    }
   ],
   "source": [
    "from sklearn.model_selection import GridSearchCV\n",
    "from lightgbm import LGBMRegressor\n",
    "import warnings\n",
    "import joblib\n",
    "\n",
    "# Suppress LightGBM warnings\n",
    "warnings.filterwarnings(\"ignore\", category=UserWarning)\n",
    "\n",
    "# ⚡ Optimized grid for M1 (reduced but meaningful)\n",
    "refined_grid = {\n",
    "    'learning_rate': [0.03, 0.05],\n",
    "    'max_depth': [8, 10],\n",
    "    'num_leaves': [50, 60],\n",
    "    'min_child_samples': [10, 20],\n",
    "    'subsample': [0.8, 1.0],\n",
    "    'colsample_bytree': [0.8, 1.0],\n",
    "    'reg_alpha': [0, 0.1],\n",
    "    'reg_lambda': [0, 0.1],\n",
    "    'n_estimators': [300]\n",
    "}\n",
    "\n",
    "# Base model\n",
    "lgbm_refined = LGBMRegressor(random_state=42, verbosity=-1)\n",
    "\n",
    "# GridSearch with speed-safe settings\n",
    "grid_search = GridSearchCV(\n",
    "    estimator=lgbm_refined,\n",
    "    param_grid=refined_grid,\n",
    "    cv=2,              # faster CV\n",
    "    scoring='r2',\n",
    "    n_jobs=2,          # limits CPU load\n",
    "    verbose=1          # show progress\n",
    ")\n",
    "\n",
    "print(\"🚀 Running optimized GridSearch on M1...\")\n",
    "grid_search.fit(Xtr_s, y_train)\n",
    "\n",
    "# Evaluate best model\n",
    "best_lgbm = grid_search.best_estimator_\n",
    "y_pred = best_lgbm.predict(Xte_s)\n",
    "rmse = np.sqrt(mean_squared_error(y_test, y_pred))\n",
    "r2 = r2_score(y_test, y_pred)\n",
    "\n",
    "print(\"\\n🎯 Best Parameters:\")\n",
    "print(grid_search.best_params_)\n",
    "print(f\"\\n🏅 Tuned LGBM (Optimized) – RMSE: {rmse:.2f}, R²: {r2:.3f}\")\n",
    "\n",
    "# Save model\n",
    "joblib.dump(best_lgbm, \"models/best_model_LGBM_OptimizedM1.joblib\")\n"
   ]
  },
  {
   "cell_type": "code",
   "execution_count": 5,
   "id": "294b4956-932b-4596-9db2-b3c6986ceb02",
   "metadata": {},
   "outputs": [
    {
     "data": {
      "image/png": "[encoded data removed]",
      "text/plain": [
       "<Figure size 1000x600 with 1 Axes>"
      ]
     },
     "metadata": {},
     "output_type": "display_data"
    }
   ],
   "source": [
    "\n",
    "\n",
    "## 📊 Feature Importance Plot\n",
    "\n",
    "\n",
    "import matplotlib.pyplot as plt\n",
    "import seaborn as sns\n",
    "\n",
    "importances = pd.Series(best_lgbm.feature_importances_, index=X.columns)\n",
    "top_features = importances.sort_values(ascending=False).head(15)\n",
    "\n",
    "plt.figure(figsize=(10, 6))\n",
    "sns.barplot(x=top_features.values, y=top_features.index, palette='viridis')\n",
    "plt.title(\"Top 15 Feature Importances – Tuned LGBM\")\n",
    "plt.xlabel(\"Importance Score\")\n",
    "plt.tight_layout()\n",
    "plt.savefig(\"models/feature_importance_lgbm.png\")\n",
    "plt.show()\n"
   ]
  },
  {
   "cell_type": "code",
   "execution_count": 6,
   "id": "d101ba49-11b1-48de-885d-fc6fc01a99d9",
   "metadata": {},
   "outputs": [
    {
     "name": "stdout",
     "output_type": "stream",
     "text": [
      "📄 Predictions saved to models/lgbm_predictions.csv\n"
     ]
    }
   ],
   "source": [
    "df_preds = pd.DataFrame({\n",
    "    \"Actual\": y_test,\n",
    "    \"Predicted\": y_pred\n",
    "})\n",
    "df_preds.to_csv(\"models/lgbm_predictions.csv\", index=False)\n",
    "print(\"📄 Predictions saved to models/lgbm_predictions.csv\")\n"
   ]
  },
  {
   "cell_type": "code",
   "execution_count": null,
   "id": "dd48b375-349a-4a3a-910a-49e26e4cc57b",
   "metadata": {},
   "outputs": [],
   "source": []
  }
 ],
 "metadata": {
  "kernelspec": {
   "display_name": "Python 3 (ipykernel)",
   "language": "python",
   "name": "python3"
  },
  "language_info": {
   "codemirror_mode": {
    "name": "ipython",
    "version": 3
   },
   "file_extension": ".py",
   "mimetype": "text/x-python",
   "name": "python",
   "nbconvert_exporter": "python",
   "pygments_lexer": "ipython3",
   "version": "3.9.13"
  }
 },
 "nbformat": 4,
 "nbformat_minor": 5
}
